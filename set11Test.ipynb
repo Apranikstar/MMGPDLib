{
 "cells": [
  {
   "cell_type": "code",
   "execution_count": 2,
   "id": "d580a26a-17a5-4ca4-ab7f-b9e9fe8cf4e0",
   "metadata": {},
   "outputs": [],
   "source": [
    "import MMGPD\n",
    "from src.GPD.initializeAnalysis import Initialize \n",
    "import numpy as np\n",
    "from scipy.integrate import quad\n",
    "import src.GPD.dataGenerator as dG\n",
    "import matplotlib.pyplot as plt"
   ]
  },
  {
   "cell_type": "code",
   "execution_count": 13,
   "id": "4983e36d-5fee-4f4c-a09b-ffd5261d5729",
   "metadata": {},
   "outputs": [
    {
     "data": {
      "text/plain": [
       "array([0.02804784, 0.12745699, 0.23882232, 0.31759671, 0.37354075,\n",
       "       0.39614959, 0.43054153, 0.66550297, 0.78237238, 0.93834862])"
      ]
     },
     "execution_count": 13,
     "metadata": {},
     "output_type": "execute_result"
    }
   ],
   "source": [
    "dG.genSkewedData(0,1,10,2)"
   ]
  },
  {
   "cell_type": "code",
   "execution_count": null,
   "id": "4afb5860-47e6-4906-9805-a2b49e1fb9f4",
   "metadata": {},
   "outputs": [],
   "source": []
  },
  {
   "cell_type": "code",
   "execution_count": null,
   "id": "34d426a7-f185-4b0f-992e-0e4d63126695",
   "metadata": {},
   "outputs": [],
   "source": []
  }
 ],
 "metadata": {
  "kernelspec": {
   "display_name": "Python 3 (ipykernel)",
   "language": "python",
   "name": "python3"
  },
  "language_info": {
   "codemirror_mode": {
    "name": "ipython",
    "version": 3
   },
   "file_extension": ".py",
   "mimetype": "text/x-python",
   "name": "python",
   "nbconvert_exporter": "python",
   "pygments_lexer": "ipython3",
   "version": "3.11.8"
  }
 },
 "nbformat": 4,
 "nbformat_minor": 5
}
