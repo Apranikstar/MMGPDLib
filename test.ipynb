{
 "cells": [
  {
   "cell_type": "code",
   "execution_count": 1,
   "id": "ff97990b-137c-4c2b-b5dc-e4e04f141e25",
   "metadata": {},
   "outputs": [],
   "source": [
    "import MMGPD"
   ]
  },
  {
   "cell_type": "code",
   "execution_count": 4,
   "id": "8e96f284-af71-4dd7-befd-fcec6d32da10",
   "metadata": {},
   "outputs": [
    {
     "name": "stdout",
     "output_type": "stream",
     "text": [
      "LHAPDF 6.5.4 loading /opt/homebrew/anaconda3/envs/MMGPDs/share/LHAPDF/NNPDF40_nlo_as_01180/NNPDF40_nlo_as_01180_0000.dat\n",
      "NNPDF40_nlo_as_01180 PDF set, member #0, version 1; LHAPDF ID = 331700\n"
     ]
    },
    {
     "data": {
      "text/plain": [
       "0.24628731992208905"
      ]
     },
     "execution_count": 4,
     "metadata": {},
     "output_type": "execute_result"
    }
   ],
   "source": [
    "MMGPD.xGPD(\"HGAG23\" , \"9\" , \"H\" , \"uv\" , 0.25 , 4.0, -1)"
   ]
  },
  {
   "cell_type": "code",
   "execution_count": null,
   "id": "702d0507-aa81-4979-bd15-6763cede1b5f",
   "metadata": {},
   "outputs": [],
   "source": []
  }
 ],
 "metadata": {
  "kernelspec": {
   "display_name": "Python 3 (ipykernel)",
   "language": "python",
   "name": "python3"
  },
  "language_info": {
   "codemirror_mode": {
    "name": "ipython",
    "version": 3
   },
   "file_extension": ".py",
   "mimetype": "text/x-python",
   "name": "python",
   "nbconvert_exporter": "python",
   "pygments_lexer": "ipython3",
   "version": "3.11.8"
  }
 },
 "nbformat": 4,
 "nbformat_minor": 5
}
