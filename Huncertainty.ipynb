{
 "cells": [
  {
   "cell_type": "markdown",
   "id": "4a995070-80d0-485a-9276-f4849cf548a9",
   "metadata": {},
   "source": [
    "$$ \\Delta H = \\sqrt{   (e^{t \\ f(x)} \\Delta q )^2 + (q \\Delta M)^2            } $$"
   ]
  },
  {
   "cell_type": "code",
   "execution_count": 1,
   "id": "c88a0de6-7ad0-4bca-9813-80abde43d3ca",
   "metadata": {},
   "outputs": [],
   "source": [
    "import src.GPD.computeProfileFunction as computeProfileFunction\n",
    "import lhapdf as lhf \n",
    "import numpy as np\n",
    "import src.GPD.computePDF as computePDF\n",
    "import src.GPD.initializeAnalysis as int\n",
    "import numpy as np\n",
    "import src.GPD.dataGenerator as dG\n",
    "import src.GPD.computeUncertainPDF as updf"
   ]
  },
  {
   "cell_type": "code",
   "execution_count": 2,
   "id": "a1c72204-eba1-4ada-a7df-f7e43bb8cc69",
   "metadata": {},
   "outputs": [],
   "source": [
    "# xGPD(InitlizerArgs, analysisSet, analysisGPD, analysisFlavour, x, t)"
   ]
  },
  {
   "cell_type": "code",
   "execution_count": 3,
   "id": "11eb4c35-f59d-494d-9754-0de77a7e0cb4",
   "metadata": {},
   "outputs": [
    {
     "name": "stdout",
     "output_type": "stream",
     "text": [
      "#############################################################################\n",
      "Thanks for using our analysis! The corresponding paper is: arXiv:2211.09522v2\n",
      "#############################################################################\n",
      "\n",
      "\n",
      "LHAPDF 6.5.4 loading /opt/homebrew/anaconda3/envs/MMGPDs/share/LHAPDF/NNPDF40_nlo_as_01180/NNPDF40_nlo_as_01180_0000.dat\n",
      "NNPDF40_nlo_as_01180 PDF set, member #0, version 1; LHAPDF ID = 331700\n",
      "LHAPDF 6.5.4 loading /opt/homebrew/anaconda3/envs/MMGPDs/share/LHAPDF/NNPDFpol11_100/NNPDFpol11_100_0000.dat\n",
      "NNPDFpol11_100 PDF set, member #0, version 1; LHAPDF ID = 251000\n",
      "LHAPDF 6.5.4 loading all 101 PDFs in set NNPDF40_nlo_as_01180\n",
      "NNPDF40_nlo_as_01180, version 1; 101 PDF members\n",
      "LHAPDF 6.5.4 loading all 101 PDFs in set NNPDFpol11_100\n",
      "NNPDFpol11_100, version 1; 101 PDF members\n"
     ]
    }
   ],
   "source": [
    "myinit = int.Initialize(\"HGAG23\")\n",
    "analysisSet = \"Set9\"\n",
    "analysisGPD = \"H\"\n",
    "analysisFlavour = \"uv\"\n",
    "x = 0.25\n",
    "t = 0"
   ]
  },
  {
   "cell_type": "code",
   "execution_count": null,
   "id": "f921255d-e5c5-47cf-ac45-8065d0f44021",
   "metadata": {},
   "outputs": [],
   "source": []
  },
  {
   "cell_type": "code",
   "execution_count": null,
   "id": "17106318-97a4-45f7-bdfd-67438547ebab",
   "metadata": {},
   "outputs": [],
   "source": []
  },
  {
   "cell_type": "code",
   "execution_count": 4,
   "id": "1d44ff56-c035-49c7-9f5f-b9df4b47c34f",
   "metadata": {},
   "outputs": [],
   "source": [
    "profileFunctionH = computeProfileFunction._profileFuncH(myinit[0],analysisSet,analysisFlavour, x)[analysisFlavour][0]"
   ]
  },
  {
   "cell_type": "code",
   "execution_count": 5,
   "id": "440696f2-01df-49f5-be5b-0e54fdc193ea",
   "metadata": {},
   "outputs": [
    {
     "data": {
      "text/plain": [
       "0.9540426346014705"
      ]
     },
     "execution_count": 5,
     "metadata": {},
     "output_type": "execute_result"
    }
   ],
   "source": [
    "profileFunctionH"
   ]
  },
  {
   "cell_type": "code",
   "execution_count": 6,
   "id": "6b710b05-c928-437c-91d1-68c0a93ae4a6",
   "metadata": {},
   "outputs": [
    {
     "data": {
      "text/plain": [
       "0.4058727618007699"
      ]
     },
     "execution_count": 6,
     "metadata": {},
     "output_type": "execute_result"
    }
   ],
   "source": [
    "profileFunctionHt = computeProfileFunction._profileFuncHt(myinit[0],analysisSet,analysisFlavour, x)[analysisFlavour][0]\n",
    "profileFunctionHt"
   ]
  },
  {
   "cell_type": "code",
   "execution_count": 7,
   "id": "8e635c80-36fd-4699-85fa-7b49294740a5",
   "metadata": {},
   "outputs": [
    {
     "data": {
      "text/plain": [
       "0.5818016180621758"
      ]
     },
     "execution_count": 7,
     "metadata": {},
     "output_type": "execute_result"
    }
   ],
   "source": [
    "profileFunctionE = computeProfileFunction._profileFuncE(myinit[0],analysisSet,analysisFlavour, x)[analysisFlavour][0]\n",
    "profileFunctionE"
   ]
  },
  {
   "cell_type": "code",
   "execution_count": 8,
   "id": "7ac0fa4f-085c-4946-ba4e-27244dc453a3",
   "metadata": {},
   "outputs": [
    {
     "data": {
      "text/plain": [
       "(0.6394071738064703, 0.007738691469752179)"
      ]
     },
     "execution_count": 8,
     "metadata": {},
     "output_type": "execute_result"
    }
   ],
   "source": [
    "UPDFH = updf.uncertainxPDFH(myinit, x, analysisFlavour)\n",
    "UPDFH"
   ]
  },
  {
   "cell_type": "code",
   "execution_count": 9,
   "id": "51325b9b-33aa-43fe-ac25-92662b69e98d",
   "metadata": {},
   "outputs": [
    {
     "data": {
      "text/plain": [
       "(0.33548548089921865, 0.02493745818783962)"
      ]
     },
     "execution_count": 9,
     "metadata": {},
     "output_type": "execute_result"
    }
   ],
   "source": [
    "UPDFHt = updf.uncertainxPDFHt(myinit, x, analysisFlavour)\n",
    "UPDFHt"
   ]
  },
  {
   "cell_type": "markdown",
   "id": "7212906e-1e3c-46b3-b8da-458c087d66d3",
   "metadata": {},
   "source": [
    "$$ \\Delta H $$"
   ]
  },
  {
   "cell_type": "code",
   "execution_count": 10,
   "id": "649b3a76-4277-4a8b-8674-27663704409d",
   "metadata": {},
   "outputs": [],
   "source": [
    "deltaH = np.sqrt(     np.power(np.exp(t*profileFunctionH) * UPDFH[1],2)  +  np.power(UPDFH[0]*1 , 2)                    )"
   ]
  },
  {
   "cell_type": "code",
   "execution_count": 11,
   "id": "cbb59355-c042-4e1c-957a-5ff481617f2c",
   "metadata": {},
   "outputs": [
    {
     "data": {
      "text/plain": [
       "0.6394540024590054"
      ]
     },
     "execution_count": 11,
     "metadata": {},
     "output_type": "execute_result"
    }
   ],
   "source": []
  },
  {
   "cell_type": "code",
   "execution_count": null,
   "id": "98ef8eaf-11ef-4049-a15d-3fb94769023f",
   "metadata": {},
   "outputs": [],
   "source": []
  },
  {
   "cell_type": "code",
   "execution_count": null,
   "id": "3461605b-39b3-4ed5-b16d-4676ebba351e",
   "metadata": {},
   "outputs": [],
   "source": []
  },
  {
   "cell_type": "code",
   "execution_count": null,
   "id": "e93bddfb-ac57-41d8-8bbc-168e2ea1e5c6",
   "metadata": {},
   "outputs": [],
   "source": []
  },
  {
   "cell_type": "code",
   "execution_count": null,
   "id": "9ec8b75f-606e-4822-bc3d-abbbe7c00cdf",
   "metadata": {},
   "outputs": [],
   "source": []
  },
  {
   "cell_type": "code",
   "execution_count": null,
   "id": "b16f2816-097a-4aa5-a590-d95942a46d8f",
   "metadata": {},
   "outputs": [],
   "source": []
  },
  {
   "cell_type": "code",
   "execution_count": null,
   "id": "ac2e2280-769a-4ea8-8717-4f38cc268950",
   "metadata": {},
   "outputs": [],
   "source": []
  }
 ],
 "metadata": {
  "kernelspec": {
   "display_name": "Python 3 (ipykernel)",
   "language": "python",
   "name": "python3"
  },
  "language_info": {
   "codemirror_mode": {
    "name": "ipython",
    "version": 3
   },
   "file_extension": ".py",
   "mimetype": "text/x-python",
   "name": "python",
   "nbconvert_exporter": "python",
   "pygments_lexer": "ipython3",
   "version": "3.11.8"
  }
 },
 "nbformat": 4,
 "nbformat_minor": 5
}
